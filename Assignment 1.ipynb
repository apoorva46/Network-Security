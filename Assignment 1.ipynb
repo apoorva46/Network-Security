{
 "cells": [
  {
   "cell_type": "markdown",
   "metadata": {},
   "source": [
    "# ASSIGNMENT - 01 NETWORK SECURITY"
   ]
  },
  {
   "cell_type": "markdown",
   "metadata": {},
   "source": [
    "# Implementation of Caesar Cipher"
   ]
  },
  {
   "cell_type": "markdown",
   "metadata": {},
   "source": [
    "Caesar Cipher:\n",
    "The Caesar Cipher is one of the earliest to encrypt the given text. It is very \n",
    "simple and based on the substitution cipher where each letter of given text is\n",
    "replaced by a letter some fixed number of position down the alphabet.\n",
    "In the Caesar cipher every alphabet is represented by unique number. \n",
    "Numbering start from 0 and end to 25 i.e. ‘A’ is represented by ‘0’ and ‘Z’ is \n",
    "represented by ‘25’.\n",
    "\n",
    "Example: Given text is ‘ABCDE’ and it has to encrypted by Caesar Cipher\n",
    "    technique with shift of ‘10’."
   ]
  },
  {
   "cell_type": "markdown",
   "metadata": {},
   "source": [
    "Encryption:E =(x+n)mod26\n",
    "     Where x = plane text \n",
    "           n = shift"
   ]
  },
  {
   "cell_type": "code",
   "execution_count": 1,
   "metadata": {},
   "outputs": [],
   "source": [
    "def caeser_cipher(text,shift):\n",
    "    encrypt =''\n",
    "    for i in range(len(text)):\n",
    "        char = text[i]\n",
    "        if(char.isupper()):\n",
    "            encrypt +=chr((ord(char)+ shift-65)%26+ 65)\n",
    "        else:\n",
    "            encrypt +=chr((ord(char)+ shift-97)%26+ 97)\n",
    "    return encrypt"
   ]
  },
  {
   "cell_type": "code",
   "execution_count": 9,
   "metadata": {},
   "outputs": [],
   "source": [
    "a=caeser_cipher('abcdefg',10)"
   ]
  },
  {
   "cell_type": "code",
   "execution_count": 10,
   "metadata": {},
   "outputs": [
    {
     "data": {
      "text/plain": [
       "'klmnopq'"
      ]
     },
     "execution_count": 10,
     "metadata": {},
     "output_type": "execute_result"
    }
   ],
   "source": [
    "a"
   ]
  },
  {
   "cell_type": "markdown",
   "metadata": {},
   "source": [
    "Decryption:D=(E-n)mod26\n",
    "    Where x = plane text \n",
    "          n = shift"
   ]
  },
  {
   "cell_type": "code",
   "execution_count": 11,
   "metadata": {},
   "outputs": [],
   "source": [
    "def de_caeser_cipher(text,shift):\n",
    "    plane_text=''\n",
    "    for i in range(len(text)):\n",
    "        char = text[i]\n",
    "        if(char.isupper()):\n",
    "            plane_text +=chr((ord(char)- shift-65)%26+ 65)\n",
    "        else:\n",
    "            plane_text +=chr((ord(char)- shift-97)%26+ 97)\n",
    "    return plane_text"
   ]
  },
  {
   "cell_type": "code",
   "execution_count": 12,
   "metadata": {},
   "outputs": [],
   "source": [
    "b=de_caeser_cipher(a,10)"
   ]
  },
  {
   "cell_type": "code",
   "execution_count": 13,
   "metadata": {},
   "outputs": [
    {
     "data": {
      "text/plain": [
       "'abcdefg'"
      ]
     },
     "execution_count": 13,
     "metadata": {},
     "output_type": "execute_result"
    }
   ],
   "source": [
    "b"
   ]
  }
 ],
 "metadata": {
  "kernelspec": {
   "display_name": "Python 3",
   "language": "python",
   "name": "python3"
  },
  "language_info": {
   "codemirror_mode": {
    "name": "ipython",
    "version": 3
   },
   "file_extension": ".py",
   "mimetype": "text/x-python",
   "name": "python",
   "nbconvert_exporter": "python",
   "pygments_lexer": "ipython3",
   "version": "3.8.5"
  }
 },
 "nbformat": 4,
 "nbformat_minor": 4
}
